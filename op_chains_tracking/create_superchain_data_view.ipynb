{
 "cells": [
  {
   "cell_type": "code",
   "execution_count": 1,
   "metadata": {},
   "outputs": [
    {
     "data": {
      "text/plain": [
       "True"
      ]
     },
     "execution_count": 1,
     "metadata": {},
     "output_type": "execute_result"
    }
   ],
   "source": [
    "import pandas as pd\n",
    "import sys\n",
    "sys.path.append(\"../helper_functions\")\n",
    "import clickhouse_utils as ch\n",
    "import opstack_metadata_utils as ops\n",
    "sys.path.pop()\n",
    "\n",
    "import dotenv\n",
    "import os\n",
    "dotenv.load_dotenv()"
   ]
  },
  {
   "cell_type": "code",
   "execution_count": 2,
   "metadata": {},
   "outputs": [],
   "source": [
    "# Get Chain List\n",
    "chain_configs = ops.get_superchain_metadata_by_data_source('oplabs') # OPLabs db\n"
   ]
  },
  {
   "cell_type": "code",
   "execution_count": 3,
   "metadata": {},
   "outputs": [],
   "source": [
    "# chain_configs"
   ]
  },
  {
   "cell_type": "code",
   "execution_count": 4,
   "metadata": {},
   "outputs": [],
   "source": [
    "# Function to create ClickHouse view\n",
    "def get_chain_names_from_df(df):\n",
    "    return df['blockchain'].dropna().unique().tolist()\n",
    "\n",
    "# Function to create ClickHouse view\n",
    "def create_clickhouse_view(view_slug, dataset_type, chain_names, client = None):\n",
    "    if client is None:\n",
    "        client = ch.connect_to_clickhouse_db()\n",
    "\n",
    "    query = f\"CREATE OR REPLACE VIEW {view_slug}_{dataset_type} AS\\n\"\n",
    "    union_queries = []\n",
    "    \n",
    "    for chain in chain_names:\n",
    "        table_name = f\"{chain}_{dataset_type}\"\n",
    "        if dataset_type == 'transactions':\n",
    "            union_queries.append(f\"\"\"\n",
    "                                SELECT \n",
    "                                id, hash, nonce, block_hash, block_number, transaction_index, from_address, to_address\n",
    "                                , value, gas, gas_price, input, max_fee_per_gas, max_priority_fee_per_gas, transaction_type\n",
    "                                , block_timestamp, receipt_cumulative_gas_used, receipt_gas_used, receipt_contract_address\n",
    "                                , receipt_status, receipt_l1_fee, receipt_l1_gas_used, receipt_l1_gas_price, receipt_l1_fee_scalar\n",
    "                                , receipt_l1_blob_base_fee, receipt_l1_blob_base_fee_scalar, blob_versioned_hashes, max_fee_per_blob_gas\n",
    "                                , receipt_l1_block_number, receipt_l1_base_fee_scalar, chain, network, chain_id, insert_time\n",
    "                                FROM {table_name} WHERE is_deleted = 0\n",
    "                                \"\"\")\n",
    "        else: \n",
    "            union_queries.append(f\"\"\"\n",
    "                                SELECT \n",
    "                                *\n",
    "                                FROM {table_name} WHERE is_deleted = 0\n",
    "                                \"\"\")\n",
    "    \n",
    "    query += \" UNION ALL\\n\".join(union_queries)\n",
    "\n",
    "    # print(query)\n",
    "    \n",
    "    client.command(query)\n",
    "\n",
    "    print(f\"View '{view_slug}_{dataset_type}' created successfully.\")"
   ]
  },
  {
   "cell_type": "code",
   "execution_count": 5,
   "metadata": {},
   "outputs": [
    {
     "name": "stdout",
     "output_type": "stream",
     "text": [
      "['op', 'zora', 'base', 'mode', 'fraxtal', 'metal', 'mint', 'cyber']\n",
      "View 'superchain_transactions' created successfully.\n"
     ]
    },
    {
     "ename": "DatabaseError",
     "evalue": ":HTTPDriver for https://pdmv9lhojy.us-west-2.aws.clickhouse.cloud:8443 returned response code 404)\n Code: 47. DB::Exception: Missing columns: 'max_fee_per_blob_gas' 'blob_versioned_hashes' 'receipt_l1_blob_base_fee' 'transaction_type' 'receipt_l1_fee_scalar' 'receipt_l1_fee' 'receipt_gas_used' 'receipt_status' 'receipt_cumulative_gas_used' 'receipt_l1_gas_price' 'receipt_l1_blob_base_fee_scalar' 'receipt_l1_base_fee_scalar' 'receipt_contract_address' 'receipt_l1_gas_used' 'receipt_l1_block_number' 'gas_price' 'hash' 'nonce' 'max_priority_fee_per_gas' 'max_fee_per_gas' while processing query: 'SELECT id, hash, nonce, block_hash, block_number, transaction_index, from_address, to_address, value, gas, gas_price, input, max_fee_per_gas, max_priority_fee_per_gas, transaction_type, block_timestamp, receipt_cumulative_gas_used, receipt_gas_used, receipt_contract_address, receipt_status, receipt_l1_fee, receipt_l1_gas_used, receipt_l1_gas_price, receipt_l1_fee_scalar, receipt_l1_blob_base_fee, receipt_l1_blob_base_fee_scalar, blob_versioned_hashes, max_fee_per_blob_gas, receipt_l1_block_number, receipt_l1_base_fee_scalar, chain, network, chain_id, insert_time FROM default.op_traces WHERE is_deleted = 0', required columns: 'id' 'max_fee_per_gas' 'value' 'max_priority_fee_per_gas' 'nonce' 'block_hash' 'hash' 'gas_price' 'transaction_index' 'from_address' 'chain' 'receipt_l1_block_number' 'block_number' 'to_address' 'block_timestamp' 'receipt_l1_gas_used' 'receipt_contract_address' 'receipt_l1_base_fee_scalar' 'is_deleted' 'gas' 'receipt_l1_blob_base_fee_scalar' 'receipt_l1_gas_price' 'receipt_cumulative_gas_used' 'receipt_status' 'input' 'receipt_gas_used' 'receipt_l1_fee' 'receipt_l1_fee_scalar' 'chain_id' 'transaction_type' 'receipt_l1_blob_base_fee' 'blob_versioned_hashes' 'network' 'max_fee_per_blob_gas' 'insert_time', maybe you meant: 'id', 'value', 'block_hash', 'gas', 'transaction_index', 'from_address', 'chain', 'block_number', 'to_address', 'block_timestamp', 'is_deleted', 'input', 'chain_id', 'transaction_hash', 'network' or 'insert_time'. (UNKNOWN_IDENTIFIER) (version 24.2.2.16370 (official build))\n",
     "output_type": "error",
     "traceback": [
      "\u001b[0;31m---------------------------------------------------------------------------\u001b[0m",
      "\u001b[0;31mDatabaseError\u001b[0m                             Traceback (most recent call last)",
      "Cell \u001b[0;32mIn[5], line 6\u001b[0m\n\u001b[1;32m      4\u001b[0m \u001b[38;5;28mprint\u001b[39m(chain_names)\n\u001b[1;32m      5\u001b[0m \u001b[38;5;28;01mfor\u001b[39;00m dataset_type \u001b[38;5;129;01min\u001b[39;00m dataset_types:\n\u001b[0;32m----> 6\u001b[0m         \u001b[43mcreate_clickhouse_view\u001b[49m\u001b[43m(\u001b[49m\u001b[43mview_slug\u001b[49m\u001b[43m,\u001b[49m\u001b[43m \u001b[49m\u001b[43mdataset_type\u001b[49m\u001b[43m,\u001b[49m\u001b[43m \u001b[49m\u001b[43mchain_names\u001b[49m\u001b[43m)\u001b[49m\n",
      "Cell \u001b[0;32mIn[4], line 30\u001b[0m, in \u001b[0;36mcreate_clickhouse_view\u001b[0;34m(view_slug, dataset_type, chain_names, client)\u001b[0m\n\u001b[1;32m     26\u001b[0m query \u001b[38;5;241m+\u001b[39m\u001b[38;5;241m=\u001b[39m \u001b[38;5;124m\"\u001b[39m\u001b[38;5;124m UNION ALL\u001b[39m\u001b[38;5;130;01m\\n\u001b[39;00m\u001b[38;5;124m\"\u001b[39m\u001b[38;5;241m.\u001b[39mjoin(union_queries)\n\u001b[1;32m     28\u001b[0m \u001b[38;5;66;03m# print(query)\u001b[39;00m\n\u001b[0;32m---> 30\u001b[0m \u001b[43mclient\u001b[49m\u001b[38;5;241;43m.\u001b[39;49m\u001b[43mcommand\u001b[49m\u001b[43m(\u001b[49m\u001b[43mquery\u001b[49m\u001b[43m)\u001b[49m\n\u001b[1;32m     32\u001b[0m \u001b[38;5;28mprint\u001b[39m(\u001b[38;5;124mf\u001b[39m\u001b[38;5;124m\"\u001b[39m\u001b[38;5;124mView \u001b[39m\u001b[38;5;124m'\u001b[39m\u001b[38;5;132;01m{\u001b[39;00mview_slug\u001b[38;5;132;01m}\u001b[39;00m\u001b[38;5;124m_\u001b[39m\u001b[38;5;132;01m{\u001b[39;00mdataset_type\u001b[38;5;132;01m}\u001b[39;00m\u001b[38;5;124m'\u001b[39m\u001b[38;5;124m created successfully.\u001b[39m\u001b[38;5;124m\"\u001b[39m)\n",
      "File \u001b[0;32m~/opt/anaconda3/envs/gcp-env/lib/python3.12/site-packages/clickhouse_connect/driver/httpclient.py:337\u001b[0m, in \u001b[0;36mHttpClient.command\u001b[0;34m(self, cmd, parameters, data, settings, use_database, external_data)\u001b[0m\n\u001b[1;32m    334\u001b[0m params\u001b[38;5;241m.\u001b[39mupdate(\u001b[38;5;28mself\u001b[39m\u001b[38;5;241m.\u001b[39m_validate_settings(settings \u001b[38;5;129;01mor\u001b[39;00m {}))\n\u001b[1;32m    336\u001b[0m method \u001b[38;5;241m=\u001b[39m \u001b[38;5;124m'\u001b[39m\u001b[38;5;124mPOST\u001b[39m\u001b[38;5;124m'\u001b[39m \u001b[38;5;28;01mif\u001b[39;00m payload \u001b[38;5;129;01mor\u001b[39;00m fields \u001b[38;5;28;01melse\u001b[39;00m \u001b[38;5;124m'\u001b[39m\u001b[38;5;124mGET\u001b[39m\u001b[38;5;124m'\u001b[39m\n\u001b[0;32m--> 337\u001b[0m response \u001b[38;5;241m=\u001b[39m \u001b[38;5;28;43mself\u001b[39;49m\u001b[38;5;241;43m.\u001b[39;49m\u001b[43m_raw_request\u001b[49m\u001b[43m(\u001b[49m\u001b[43mpayload\u001b[49m\u001b[43m,\u001b[49m\u001b[43m \u001b[49m\u001b[43mparams\u001b[49m\u001b[43m,\u001b[49m\u001b[43m \u001b[49m\u001b[43mheaders\u001b[49m\u001b[43m,\u001b[49m\u001b[43m \u001b[49m\u001b[43mmethod\u001b[49m\u001b[43m,\u001b[49m\u001b[43m \u001b[49m\u001b[43mfields\u001b[49m\u001b[38;5;241;43m=\u001b[39;49m\u001b[43mfields\u001b[49m\u001b[43m)\u001b[49m\n\u001b[1;32m    338\u001b[0m \u001b[38;5;28;01mif\u001b[39;00m response\u001b[38;5;241m.\u001b[39mdata:\n\u001b[1;32m    339\u001b[0m     \u001b[38;5;28;01mtry\u001b[39;00m:\n",
      "File \u001b[0;32m~/opt/anaconda3/envs/gcp-env/lib/python3.12/site-packages/clickhouse_connect/driver/httpclient.py:442\u001b[0m, in \u001b[0;36mHttpClient._raw_request\u001b[0;34m(self, data, params, headers, method, retries, stream, server_wait, fields, error_handler)\u001b[0m\n\u001b[1;32m    440\u001b[0m     error_handler(response)\n\u001b[1;32m    441\u001b[0m \u001b[38;5;28;01melse\u001b[39;00m:\n\u001b[0;32m--> 442\u001b[0m     \u001b[38;5;28;43mself\u001b[39;49m\u001b[38;5;241;43m.\u001b[39;49m\u001b[43m_error_handler\u001b[49m\u001b[43m(\u001b[49m\u001b[43mresponse\u001b[49m\u001b[43m)\u001b[49m\n",
      "File \u001b[0;32m~/opt/anaconda3/envs/gcp-env/lib/python3.12/site-packages/clickhouse_connect/driver/httpclient.py:366\u001b[0m, in \u001b[0;36mHttpClient._error_handler\u001b[0;34m(self, response, retried)\u001b[0m\n\u001b[1;32m    364\u001b[0m     \u001b[38;5;28;01melse\u001b[39;00m:\n\u001b[1;32m    365\u001b[0m         err_str \u001b[38;5;241m=\u001b[39m \u001b[38;5;124m'\u001b[39m\u001b[38;5;124mThe ClickHouse server returned an error.\u001b[39m\u001b[38;5;124m'\u001b[39m\n\u001b[0;32m--> 366\u001b[0m \u001b[38;5;28;01mraise\u001b[39;00m OperationalError(err_str) \u001b[38;5;28;01mif\u001b[39;00m retried \u001b[38;5;28;01melse\u001b[39;00m DatabaseError(err_str) \u001b[38;5;28;01mfrom\u001b[39;00m \u001b[38;5;28;01mNone\u001b[39;00m\n",
      "\u001b[0;31mDatabaseError\u001b[0m: :HTTPDriver for https://pdmv9lhojy.us-west-2.aws.clickhouse.cloud:8443 returned response code 404)\n Code: 47. DB::Exception: Missing columns: 'max_fee_per_blob_gas' 'blob_versioned_hashes' 'receipt_l1_blob_base_fee' 'transaction_type' 'receipt_l1_fee_scalar' 'receipt_l1_fee' 'receipt_gas_used' 'receipt_status' 'receipt_cumulative_gas_used' 'receipt_l1_gas_price' 'receipt_l1_blob_base_fee_scalar' 'receipt_l1_base_fee_scalar' 'receipt_contract_address' 'receipt_l1_gas_used' 'receipt_l1_block_number' 'gas_price' 'hash' 'nonce' 'max_priority_fee_per_gas' 'max_fee_per_gas' while processing query: 'SELECT id, hash, nonce, block_hash, block_number, transaction_index, from_address, to_address, value, gas, gas_price, input, max_fee_per_gas, max_priority_fee_per_gas, transaction_type, block_timestamp, receipt_cumulative_gas_used, receipt_gas_used, receipt_contract_address, receipt_status, receipt_l1_fee, receipt_l1_gas_used, receipt_l1_gas_price, receipt_l1_fee_scalar, receipt_l1_blob_base_fee, receipt_l1_blob_base_fee_scalar, blob_versioned_hashes, max_fee_per_blob_gas, receipt_l1_block_number, receipt_l1_base_fee_scalar, chain, network, chain_id, insert_time FROM default.op_traces WHERE is_deleted = 0', required columns: 'id' 'max_fee_per_gas' 'value' 'max_priority_fee_per_gas' 'nonce' 'block_hash' 'hash' 'gas_price' 'transaction_index' 'from_address' 'chain' 'receipt_l1_block_number' 'block_number' 'to_address' 'block_timestamp' 'receipt_l1_gas_used' 'receipt_contract_address' 'receipt_l1_base_fee_scalar' 'is_deleted' 'gas' 'receipt_l1_blob_base_fee_scalar' 'receipt_l1_gas_price' 'receipt_cumulative_gas_used' 'receipt_status' 'input' 'receipt_gas_used' 'receipt_l1_fee' 'receipt_l1_fee_scalar' 'chain_id' 'transaction_type' 'receipt_l1_blob_base_fee' 'blob_versioned_hashes' 'network' 'max_fee_per_blob_gas' 'insert_time', maybe you meant: 'id', 'value', 'block_hash', 'gas', 'transaction_index', 'from_address', 'chain', 'block_number', 'to_address', 'block_timestamp', 'is_deleted', 'input', 'chain_id', 'transaction_hash', 'network' or 'insert_time'. (UNKNOWN_IDENTIFIER) (version 24.2.2.16370 (official build))\n"
     ]
    }
   ],
   "source": [
    "view_slug = 'superchain'\n",
    "dataset_types = ['transactions', 'traces', 'blocks', 'logs']\n",
    "chain_names = get_chain_names_from_df(chain_configs)\n",
    "print(chain_names)\n",
    "for dataset_type in dataset_types:\n",
    "        create_clickhouse_view(view_slug, dataset_type, chain_names)"
   ]
  }
 ],
 "metadata": {
  "kernelspec": {
   "display_name": "gcp-env",
   "language": "python",
   "name": "python3"
  },
  "language_info": {
   "codemirror_mode": {
    "name": "ipython",
    "version": 3
   },
   "file_extension": ".py",
   "mimetype": "text/x-python",
   "name": "python",
   "nbconvert_exporter": "python",
   "pygments_lexer": "ipython3",
   "version": "3.12.3"
  }
 },
 "nbformat": 4,
 "nbformat_minor": 2
}
