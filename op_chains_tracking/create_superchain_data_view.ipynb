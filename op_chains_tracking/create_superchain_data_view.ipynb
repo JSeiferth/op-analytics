{
 "cells": [
  {
   "cell_type": "code",
   "execution_count": 1,
   "metadata": {},
   "outputs": [
    {
     "data": {
      "text/plain": [
       "True"
      ]
     },
     "execution_count": 1,
     "metadata": {},
     "output_type": "execute_result"
    }
   ],
   "source": [
    "import pandas as pd\n",
    "import sys\n",
    "sys.path.append(\"../helper_functions\")\n",
    "import clickhouse_utils as ch\n",
    "import opstack_metadata_utils as ops\n",
    "sys.path.pop()\n",
    "\n",
    "import dotenv\n",
    "import os\n",
    "dotenv.load_dotenv()"
   ]
  },
  {
   "cell_type": "code",
   "execution_count": 2,
   "metadata": {},
   "outputs": [],
   "source": [
    "# Get Chain List\n",
    "chain_configs = ops.get_superchain_metadata_by_data_source('oplabs') # OPLabs db\n"
   ]
  },
  {
   "cell_type": "code",
   "execution_count": 6,
   "metadata": {},
   "outputs": [],
   "source": [
    "# chain_configs"
   ]
  },
  {
   "cell_type": "code",
   "execution_count": 4,
   "metadata": {},
   "outputs": [],
   "source": [
    "# Function to create ClickHouse view\n",
    "def get_chain_names_from_df(df):\n",
    "    return df['blockchain'].dropna().unique().tolist()\n",
    "\n",
    "# Function to create ClickHouse view\n",
    "def create_clickhouse_view(view_slug, dataset_type, chain_names, client = None):\n",
    "    if client is None:\n",
    "        client = ch.connect_to_clickhouse_db()\n",
    "\n",
    "    query = f\"CREATE OR REPLACE VIEW {view_slug}_{dataset_type} AS\\n\"\n",
    "    union_queries = []\n",
    "    \n",
    "    for chain in chain_names:\n",
    "        table_name = f\"{chain}_{dataset_type}\"\n",
    "        union_queries.append(f\"\"\"\n",
    "                             SELECT \n",
    "                               id, hash, nonce, block_hash, block_number, transaction_index, from_address, to_address\n",
    "                             , value, gas, gas_price, input, max_fee_per_gas, max_priority_fee_per_gas, transaction_type\n",
    "                             , block_timestamp, receipt_cumulative_gas_used, receipt_gas_used, receipt_contract_address\n",
    "                             , receipt_status, receipt_l1_fee, receipt_l1_gas_used, receipt_l1_gas_price, receipt_l1_fee_scalar\n",
    "                             , receipt_l1_blob_base_fee, receipt_l1_blob_base_fee_scalar, blob_versioned_hashes, max_fee_per_blob_gas\n",
    "                             , receipt_l1_block_number, receipt_l1_base_fee_scalar, chain, network, chain_id, insert_time\n",
    "                              FROM {table_name} WHERE is_deleted = 0\n",
    "                              \"\"\")\n",
    "    \n",
    "    query += \" UNION ALL\\n\".join(union_queries)\n",
    "\n",
    "    # print(query)\n",
    "    \n",
    "    client.command(query)\n",
    "\n",
    "    print(f\"View '{view_slug}_{dataset_type}' created successfully.\")"
   ]
  },
  {
   "cell_type": "code",
   "execution_count": 5,
   "metadata": {},
   "outputs": [
    {
     "name": "stdout",
     "output_type": "stream",
     "text": [
      "['op', 'zora', 'base', 'mode', 'fraxtal', 'metal', 'mint', 'cyber']\n",
      "View 'superchain_transactions' created successfully.\n"
     ]
    }
   ],
   "source": [
    "view_slug = 'superchain'\n",
    "dataset_type = 'transactions'\n",
    "chain_names = get_chain_names_from_df(chain_configs)\n",
    "print(chain_names)\n",
    "create_clickhouse_view(view_slug, dataset_type, chain_names)"
   ]
  }
 ],
 "metadata": {
  "kernelspec": {
   "display_name": "gcp-env",
   "language": "python",
   "name": "python3"
  },
  "language_info": {
   "codemirror_mode": {
    "name": "ipython",
    "version": 3
   },
   "file_extension": ".py",
   "mimetype": "text/x-python",
   "name": "python",
   "nbconvert_exporter": "python",
   "pygments_lexer": "ipython3",
   "version": "3.12.3"
  }
 },
 "nbformat": 4,
 "nbformat_minor": 2
}
