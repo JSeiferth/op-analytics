{
 "cells": [
  {
   "cell_type": "code",
   "execution_count": 1,
   "metadata": {},
   "outputs": [],
   "source": [
    "import requests as r\n",
    "import pandas as pd\n",
    "import numpy as np\n",
    "import os\n",
    "\n",
    "import sys\n",
    "sys.path.append(\"../../helper_functions\")\n",
    "import duneapi_utils as du\n",
    "import pandas_utils as p\n",
    "import google_bq_utils as bqu\n",
    "sys.path.pop()\n",
    "\n",
    "import time"
   ]
  },
  {
   "cell_type": "code",
   "execution_count": 2,
   "metadata": {},
   "outputs": [],
   "source": [
    "table_name = 'op_collective_revenue_transactions'\n",
    "\n",
    "trailing_days = 90"
   ]
  },
  {
   "cell_type": "code",
   "execution_count": 3,
   "metadata": {},
   "outputs": [
    {
     "name": "stderr",
     "output_type": "stream",
     "text": [
      "\u001b[32m2024-07-23 14:23:00.017\u001b[0m | \u001b[1mINFO    \u001b[0m | \u001b[36mduneapi_utils\u001b[0m:\u001b[36mget_dune_data\u001b[0m:\u001b[36m58\u001b[0m - \u001b[1mResults available at https://dune.com/queries/3046107?trailing_days=9990\u001b[0m\n"
     ]
    },
    {
     "name": "stdout",
     "output_type": "stream",
     "text": [
      "     dune runs\n"
     ]
    },
    {
     "name": "stderr",
     "output_type": "stream",
     "text": [
      "2024-07-23 14:23:01,282 INFO dune_client.api.base executing 3046107 on medium cluster\n",
      "2024-07-23 14:23:01,585 INFO dune_client.api.base waiting for query execution 01J3GDA77Y5CN9Z6AP78ED9VRX to complete: ExecutionState.PENDING (queue position: 2)\n",
      "2024-07-23 14:23:02,728 INFO dune_client.api.base waiting for query execution 01J3GDA77Y5CN9Z6AP78ED9VRX to complete: ExecutionState.PENDING (queue position: 2)\n",
      "2024-07-23 14:23:03,873 INFO dune_client.api.base waiting for query execution 01J3GDA77Y5CN9Z6AP78ED9VRX to complete: ExecutionState.EXECUTING\n",
      "2024-07-23 14:23:05,023 INFO dune_client.api.base waiting for query execution 01J3GDA77Y5CN9Z6AP78ED9VRX to complete: ExecutionState.EXECUTING\n",
      "2024-07-23 14:23:06,178 INFO dune_client.api.base waiting for query execution 01J3GDA77Y5CN9Z6AP78ED9VRX to complete: ExecutionState.EXECUTING\n",
      "2024-07-23 14:23:07,336 INFO dune_client.api.base waiting for query execution 01J3GDA77Y5CN9Z6AP78ED9VRX to complete: ExecutionState.EXECUTING\n",
      "2024-07-23 14:23:08,487 INFO dune_client.api.base waiting for query execution 01J3GDA77Y5CN9Z6AP78ED9VRX to complete: ExecutionState.EXECUTING\n",
      "2024-07-23 14:23:09,647 INFO dune_client.api.base waiting for query execution 01J3GDA77Y5CN9Z6AP78ED9VRX to complete: ExecutionState.EXECUTING\n",
      "2024-07-23 14:23:10,798 INFO dune_client.api.base waiting for query execution 01J3GDA77Y5CN9Z6AP78ED9VRX to complete: ExecutionState.EXECUTING\n",
      "2024-07-23 14:23:11,954 INFO dune_client.api.base waiting for query execution 01J3GDA77Y5CN9Z6AP78ED9VRX to complete: ExecutionState.EXECUTING\n",
      "2024-07-23 14:23:13,174 INFO dune_client.api.base waiting for query execution 01J3GDA77Y5CN9Z6AP78ED9VRX to complete: ExecutionState.EXECUTING\n",
      "2024-07-23 14:23:14,393 INFO dune_client.api.base waiting for query execution 01J3GDA77Y5CN9Z6AP78ED9VRX to complete: ExecutionState.EXECUTING\n",
      "2024-07-23 14:23:15,546 INFO dune_client.api.base waiting for query execution 01J3GDA77Y5CN9Z6AP78ED9VRX to complete: ExecutionState.EXECUTING\n",
      "2024-07-23 14:23:16,690 INFO dune_client.api.base waiting for query execution 01J3GDA77Y5CN9Z6AP78ED9VRX to complete: ExecutionState.EXECUTING\n",
      "2024-07-23 14:23:17,845 INFO dune_client.api.base waiting for query execution 01J3GDA77Y5CN9Z6AP78ED9VRX to complete: ExecutionState.EXECUTING\n",
      "2024-07-23 14:23:18,993 INFO dune_client.api.base waiting for query execution 01J3GDA77Y5CN9Z6AP78ED9VRX to complete: ExecutionState.EXECUTING\n",
      "2024-07-23 14:23:20,142 INFO dune_client.api.base waiting for query execution 01J3GDA77Y5CN9Z6AP78ED9VRX to complete: ExecutionState.EXECUTING\n",
      "2024-07-23 14:23:21,315 INFO dune_client.api.base waiting for query execution 01J3GDA77Y5CN9Z6AP78ED9VRX to complete: ExecutionState.EXECUTING\n",
      "2024-07-23 14:23:22,467 INFO dune_client.api.base waiting for query execution 01J3GDA77Y5CN9Z6AP78ED9VRX to complete: ExecutionState.EXECUTING\n",
      "2024-07-23 14:23:23,616 INFO dune_client.api.base waiting for query execution 01J3GDA77Y5CN9Z6AP78ED9VRX to complete: ExecutionState.EXECUTING\n",
      "2024-07-23 14:23:24,767 INFO dune_client.api.base waiting for query execution 01J3GDA77Y5CN9Z6AP78ED9VRX to complete: ExecutionState.EXECUTING\n",
      "2024-07-23 14:23:25,918 INFO dune_client.api.base waiting for query execution 01J3GDA77Y5CN9Z6AP78ED9VRX to complete: ExecutionState.EXECUTING\n",
      "2024-07-23 14:23:27,130 INFO dune_client.api.base waiting for query execution 01J3GDA77Y5CN9Z6AP78ED9VRX to complete: ExecutionState.EXECUTING\n",
      "2024-07-23 14:23:28,322 INFO dune_client.api.base waiting for query execution 01J3GDA77Y5CN9Z6AP78ED9VRX to complete: ExecutionState.EXECUTING\n",
      "2024-07-23 14:23:29,580 INFO dune_client.api.base waiting for query execution 01J3GDA77Y5CN9Z6AP78ED9VRX to complete: ExecutionState.EXECUTING\n",
      "2024-07-23 14:23:30,730 INFO dune_client.api.base waiting for query execution 01J3GDA77Y5CN9Z6AP78ED9VRX to complete: ExecutionState.EXECUTING\n",
      "2024-07-23 14:23:31,884 INFO dune_client.api.base waiting for query execution 01J3GDA77Y5CN9Z6AP78ED9VRX to complete: ExecutionState.EXECUTING\n",
      "2024-07-23 14:23:33,033 INFO dune_client.api.base waiting for query execution 01J3GDA77Y5CN9Z6AP78ED9VRX to complete: ExecutionState.EXECUTING\n",
      "2024-07-23 14:23:34,191 INFO dune_client.api.base waiting for query execution 01J3GDA77Y5CN9Z6AP78ED9VRX to complete: ExecutionState.EXECUTING\n",
      "2024-07-23 14:23:35,376 INFO dune_client.api.base waiting for query execution 01J3GDA77Y5CN9Z6AP78ED9VRX to complete: ExecutionState.EXECUTING\n",
      "2024-07-23 14:23:36,528 INFO dune_client.api.base waiting for query execution 01J3GDA77Y5CN9Z6AP78ED9VRX to complete: ExecutionState.EXECUTING\n",
      "2024-07-23 14:23:37,679 INFO dune_client.api.base waiting for query execution 01J3GDA77Y5CN9Z6AP78ED9VRX to complete: ExecutionState.EXECUTING\n",
      "2024-07-23 14:23:38,835 INFO dune_client.api.base waiting for query execution 01J3GDA77Y5CN9Z6AP78ED9VRX to complete: ExecutionState.EXECUTING\n",
      "2024-07-23 14:23:39,994 INFO dune_client.api.base waiting for query execution 01J3GDA77Y5CN9Z6AP78ED9VRX to complete: ExecutionState.EXECUTING\n",
      "2024-07-23 14:23:41,170 INFO dune_client.api.base waiting for query execution 01J3GDA77Y5CN9Z6AP78ED9VRX to complete: ExecutionState.EXECUTING\n",
      "2024-07-23 14:23:42,399 INFO dune_client.api.base waiting for query execution 01J3GDA77Y5CN9Z6AP78ED9VRX to complete: ExecutionState.EXECUTING\n",
      "2024-07-23 14:23:43,747 INFO dune_client.api.base waiting for query execution 01J3GDA77Y5CN9Z6AP78ED9VRX to complete: ExecutionState.EXECUTING\n",
      "\u001b[32m2024-07-23 14:23:45.397\u001b[0m | \u001b[1mINFO    \u001b[0m | \u001b[36mduneapi_utils\u001b[0m:\u001b[36mget_dune_data\u001b[0m:\u001b[36m105\u001b[0m - \u001b[1m✨ Results saved as outputs/op_collective_revenue_transactions.csv, with 143 rows and 18 columns.\u001b[0m\n"
     ]
    }
   ],
   "source": [
    "# Run Dune\n",
    "print('     dune runs')\n",
    "days_param = du.generate_query_parameter(input=trailing_days,field_name='trailing_days',dtype='number')\n",
    "dune_df = du.get_dune_data(query_id = 3046107, #https://dune.com/queries/3046107\n",
    "    name = table_name,\n",
    "    path = \"outputs\",\n",
    "    performance=\"medium\",\n",
    "    params = [days_param],\n",
    "    num_hours_to_rerun=0 #always rereun\n",
    ")\n",
    "dune_df['source'] = 'dune'\n",
    "dune_df['tx_block_time'] = pd.to_datetime(dune_df['tx_block_time']).dt.tz_localize(None)"
   ]
  },
  {
   "cell_type": "code",
   "execution_count": 4,
   "metadata": {},
   "outputs": [],
   "source": [
    "dune_df['value'] = dune_df['value'].astype(str)"
   ]
  },
  {
   "cell_type": "code",
   "execution_count": 5,
   "metadata": {},
   "outputs": [
    {
     "name": "stdout",
     "output_type": "stream",
     "text": [
      "Start Writing api_table_uploads.op_collective_revenue_transactions_staging\n",
      "Data loaded successfully to api_table_uploads.op_collective_revenue_transactions_staging\n"
     ]
    },
    {
     "name": "stderr",
     "output_type": "stream",
     "text": [
      "2024-07-23 14:24:20,449 INFO google_bq_utils Append and upsert to api_table_uploads.op_collective_revenue_transactions completed successfully\n",
      "2024-07-23 14:24:20,671 INFO google_bq_utils Staging table oplabs-tools-data.api_table_uploads.op_collective_revenue_transactions_staging deleted.\n"
     ]
    }
   ],
   "source": [
    "#BQ Upload\n",
    "bqu.append_and_upsert_df_to_bq_table(dune_df, table_name, unique_keys = ['tx_block_number','tx_hash','trace_address'])"
   ]
  }
 ],
 "metadata": {
  "kernelspec": {
   "display_name": "gcp-env",
   "language": "python",
   "name": "python3"
  },
  "language_info": {
   "codemirror_mode": {
    "name": "ipython",
    "version": 3
   },
   "file_extension": ".py",
   "mimetype": "text/x-python",
   "name": "python",
   "nbconvert_exporter": "python",
   "pygments_lexer": "ipython3",
   "version": "3.12.3"
  }
 },
 "nbformat": 4,
 "nbformat_minor": 2
}
