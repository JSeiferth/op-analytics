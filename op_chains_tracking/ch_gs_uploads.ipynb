{
 "cells": [
  {
   "cell_type": "code",
   "execution_count": 1,
   "metadata": {
    "metadata": {}
   },
   "outputs": [
    {
     "name": "stdout",
     "output_type": "stream",
     "text": [
      "start ch uploads\n"
     ]
    }
   ],
   "source": [
    "print('start ch uploads')\n",
    "#Clickhouse db w/ Goldsky\n",
    "# https://clickhouse.com/docs/en/integrations/python\n",
    "\n",
    "import requests as r\n",
    "import pandas as pd\n",
    "import clickhouse_connect as cc\n",
    "import os\n",
    "\n",
    "import sys\n",
    "sys.path.append(\"../helper_functions\")\n",
    "import duneapi_utils as d\n",
    "import pandas_utils as p\n",
    "import clickhouse_utils as ch\n",
    "import csv_utils as cu\n",
    "import google_bq_utils as bqu\n",
    "import opstack_metadata_utils as ops\n",
    "import goldsky_db_utils as gsb\n",
    "sys.path.pop()\n",
    "\n",
    "import time"
   ]
  },
  {
   "cell_type": "code",
   "execution_count": 2,
   "metadata": {
    "metadata": {}
   },
   "outputs": [],
   "source": [
    "client = ch.connect_to_clickhouse_db() #Default is OPLabs DB\n",
    "# client.close()\n",
    "\n",
    "table_name = 'daily_aggegate_l2_chain_usage_goldsky'"
   ]
  },
  {
   "cell_type": "code",
   "execution_count": 3,
   "metadata": {},
   "outputs": [],
   "source": [
    "# bqu.delete_bq_table('api_table_uploads',table_name)"
   ]
  },
  {
   "cell_type": "code",
   "execution_count": 4,
   "metadata": {},
   "outputs": [],
   "source": [
    "block_time_sec = 2\n",
    "\n",
    "trailing_days = 14\n",
    "max_execution_secs = 3000"
   ]
  },
  {
   "cell_type": "code",
   "execution_count": 5,
   "metadata": {},
   "outputs": [],
   "source": [
    "# chain_mappings_list = [\n",
    "#     # {'schema_name': 'zora', 'display_name': 'Zora', 'has_blob_fields': True},\n",
    "#     # {'schema_name': 'pgn', 'display_name': 'Public Goods Network', 'has_blob_fields': True},\n",
    "#     # {'schema_name': 'base', 'display_name': 'Base', 'has_blob_fields': False},\n",
    "#     # {'schema_name': 'op', 'display_name': 'OP Mainnet', 'has_blob_fields': True},\n",
    "#     {'schema_name': 'mode', 'display_name': 'Mode', 'has_blob_fields': True},\n",
    "#     {'schema_name': 'metal', 'display_name': 'Metal', 'has_blob_fields': True},\n",
    "#     {'schema_name': 'fraxtal', 'display_name': 'Fraxtal', 'has_blob_fields': True},\n",
    "#     # {'schema_name': 'bob', 'display_name': 'BOB (Build on Bitcoin)', 'has_blob_fields': False},\n",
    "#     {'schema_name': 'cyber', 'display_name': 'Cyber', 'has_blob_fields': True},\n",
    "#     {'schema_name': 'mint', 'display_name': 'Mint', 'has_blob_fields': True},\n",
    "#     # Add more mappings as needed\n",
    "# ]\n",
    "# chain_mappings_dict = {item['schema_name']: item['display_name'] for item in chain_mappings_list}\n"
   ]
  },
  {
   "cell_type": "code",
   "execution_count": 6,
   "metadata": {},
   "outputs": [
    {
     "data": {
      "text/html": [
       "<div>\n",
       "<style scoped>\n",
       "    .dataframe tbody tr th:only-of-type {\n",
       "        vertical-align: middle;\n",
       "    }\n",
       "\n",
       "    .dataframe tbody tr th {\n",
       "        vertical-align: top;\n",
       "    }\n",
       "\n",
       "    .dataframe thead th {\n",
       "        text-align: right;\n",
       "    }\n",
       "</style>\n",
       "<table border=\"1\" class=\"dataframe\">\n",
       "  <thead>\n",
       "    <tr style=\"text-align: right;\">\n",
       "      <th></th>\n",
       "      <th>chain_name</th>\n",
       "      <th>display_name</th>\n",
       "      <th>mainnet_chain_id</th>\n",
       "      <th>chain_layer</th>\n",
       "      <th>alignment</th>\n",
       "      <th>blockchain</th>\n",
       "    </tr>\n",
       "  </thead>\n",
       "  <tbody>\n",
       "    <tr>\n",
       "      <th>0</th>\n",
       "      <td>op</td>\n",
       "      <td>OP Mainnet</td>\n",
       "      <td>10.0</td>\n",
       "      <td>L2</td>\n",
       "      <td>OP Chain</td>\n",
       "      <td>op</td>\n",
       "    </tr>\n",
       "    <tr>\n",
       "      <th>6</th>\n",
       "      <td>zora</td>\n",
       "      <td>Zora</td>\n",
       "      <td>7777777.0</td>\n",
       "      <td>L2</td>\n",
       "      <td>OP Chain</td>\n",
       "      <td>zora</td>\n",
       "    </tr>\n",
       "    <tr>\n",
       "      <th>10</th>\n",
       "      <td>base</td>\n",
       "      <td>Base</td>\n",
       "      <td>8453.0</td>\n",
       "      <td>L2</td>\n",
       "      <td>OP Chain</td>\n",
       "      <td>base</td>\n",
       "    </tr>\n",
       "    <tr>\n",
       "      <th>16</th>\n",
       "      <td>mode</td>\n",
       "      <td>Mode</td>\n",
       "      <td>34443.0</td>\n",
       "      <td>L2</td>\n",
       "      <td>OP Chain</td>\n",
       "      <td>mode</td>\n",
       "    </tr>\n",
       "    <tr>\n",
       "      <th>23</th>\n",
       "      <td>fraxtal</td>\n",
       "      <td>Fraxtal</td>\n",
       "      <td>252.0</td>\n",
       "      <td>L2</td>\n",
       "      <td>OP Chain</td>\n",
       "      <td>fraxtal</td>\n",
       "    </tr>\n",
       "    <tr>\n",
       "      <th>29</th>\n",
       "      <td>metal</td>\n",
       "      <td>Metal</td>\n",
       "      <td>1750.0</td>\n",
       "      <td>L2</td>\n",
       "      <td>OP Chain</td>\n",
       "      <td>metal</td>\n",
       "    </tr>\n",
       "    <tr>\n",
       "      <th>30</th>\n",
       "      <td>mint</td>\n",
       "      <td>Mint</td>\n",
       "      <td>185.0</td>\n",
       "      <td>L2</td>\n",
       "      <td>OP Chain</td>\n",
       "      <td>mint</td>\n",
       "    </tr>\n",
       "    <tr>\n",
       "      <th>31</th>\n",
       "      <td>cyber</td>\n",
       "      <td>Cyber</td>\n",
       "      <td>7560.0</td>\n",
       "      <td>L2</td>\n",
       "      <td>OP Chain</td>\n",
       "      <td>cyber</td>\n",
       "    </tr>\n",
       "  </tbody>\n",
       "</table>\n",
       "</div>"
      ],
      "text/plain": [
       "   chain_name display_name  mainnet_chain_id chain_layer alignment blockchain\n",
       "0          op   OP Mainnet              10.0          L2  OP Chain         op\n",
       "6        zora         Zora         7777777.0          L2  OP Chain       zora\n",
       "10       base         Base            8453.0          L2  OP Chain       base\n",
       "16       mode         Mode           34443.0          L2  OP Chain       mode\n",
       "23    fraxtal      Fraxtal             252.0          L2  OP Chain    fraxtal\n",
       "29      metal        Metal            1750.0          L2  OP Chain      metal\n",
       "30       mint         Mint             185.0          L2  OP Chain       mint\n",
       "31      cyber        Cyber            7560.0          L2  OP Chain      cyber"
      ]
     },
     "execution_count": 6,
     "metadata": {},
     "output_type": "execute_result"
    }
   ],
   "source": [
    "# Get Chain List\n",
    "chain_configs = ops.get_op_stack_metadata_by_data_source('oplabs') # OPLabs db\n",
    "#Filter to Superchain\n",
    "chain_configs = chain_configs[chain_configs['alignment']=='OP Chain']\n",
    "\n",
    "chain_configs"
   ]
  },
  {
   "cell_type": "code",
   "execution_count": 7,
   "metadata": {},
   "outputs": [],
   "source": [
    "sql_directory = \"inputs/sql/\"\n",
    "\n",
    "query_names = [\n",
    "        # Must match the file name in inputs/sql\n",
    "        \"ch_template_alltime_chain_activity\"\n",
    "]"
   ]
  },
  {
   "cell_type": "code",
   "execution_count": 8,
   "metadata": {},
   "outputs": [],
   "source": [
    "unified_dfs = []"
   ]
  },
  {
   "cell_type": "code",
   "execution_count": 9,
   "metadata": {},
   "outputs": [
    {
     "name": "stdout",
     "output_type": "stream",
     "text": [
      "ch_template_alltime_chain_activity - op\n",
      "ch_template_alltime_chain_activity - zora\n",
      "ch_template_alltime_chain_activity - base\n",
      "ch_template_alltime_chain_activity - mode\n",
      "ch_template_alltime_chain_activity - fraxtal\n",
      "ch_template_alltime_chain_activity - metal\n",
      "ch_template_alltime_chain_activity - mint\n",
      "ch_template_alltime_chain_activity - cyber\n"
     ]
    }
   ],
   "source": [
    "for qn in query_names:\n",
    "        for index, chain in chain_configs.iterrows():\n",
    "                chain_schema = chain['blockchain']\n",
    "                display_name = chain['display_name']\n",
    "                # Read the SQL query from file\n",
    "                with open(os.path.join(sql_directory, f\"{qn}.sql\"), \"r\") as file:\n",
    "                        query = file.read()\n",
    "                print(qn + ' - ' + chain_schema)\n",
    "\n",
    "                #Pass in Params to the query\n",
    "                query = query.replace(\"@chain_db_name@\", chain_schema)\n",
    "                query = query.replace(\"@trailing_days@\", str(trailing_days))\n",
    "                query = query.replace(\"@block_time_sec@\", str(block_time_sec))\n",
    "                query = query.replace(\"@max_execution_secs@\", str(max_execution_secs))\n",
    "\n",
    "                query = gsb.process_goldsky_sql(query)\n",
    "\n",
    "                # Execute the query\n",
    "                result_df = client.query_df(query)\n",
    "        #         # Write to csv\n",
    "        #         df.to_csv('outputs/chain_data/' + qn + '.csv', index=False)\n",
    "        #         # print(df.sample(5))\n",
    "        #         time.sleep(1)\n",
    "                \n",
    "                result_df['chain_raw'] = result_df['chain']\n",
    "                result_df['chain'] = display_name\n",
    "                unified_dfs.append(result_df)\n",
    "\n",
    "        write_df = pd.concat(unified_dfs)\n",
    "        write_df.to_csv('outputs/chain_data/' + qn + '.csv', index=False)\n",
    "        \n",
    "        # # # Print the results"
   ]
  },
  {
   "cell_type": "code",
   "execution_count": 10,
   "metadata": {},
   "outputs": [],
   "source": [
    "# write_df.dtypes\n",
    "write_df['chain_id'] = write_df['chain_id'].astype('int64')"
   ]
  },
  {
   "cell_type": "code",
   "execution_count": 11,
   "metadata": {},
   "outputs": [
    {
     "name": "stdout",
     "output_type": "stream",
     "text": [
      "Start Writing api_table_uploads.daily_aggegate_l2_chain_usage_goldsky_staging\n",
      "Data loaded successfully to api_table_uploads.daily_aggegate_l2_chain_usage_goldsky_staging\n"
     ]
    },
    {
     "name": "stderr",
     "output_type": "stream",
     "text": [
      "2024-07-18 12:28:52,015 INFO google_bq_utils Append and upsert to api_table_uploads.daily_aggegate_l2_chain_usage_goldsky completed successfully\n",
      "2024-07-18 12:28:52,325 INFO google_bq_utils Staging table oplabs-tools-data.api_table_uploads.daily_aggegate_l2_chain_usage_goldsky_staging deleted.\n"
     ]
    }
   ],
   "source": [
    "#BQ Upload\n",
    "time.sleep(1)\n",
    "bqu.append_and_upsert_df_to_bq_table(write_df, table_name, unique_keys = ['dt','chain','network'])"
   ]
  },
  {
   "cell_type": "code",
   "execution_count": 12,
   "metadata": {},
   "outputs": [
    {
     "name": "stdout",
     "output_type": "stream",
     "text": [
      "upload bq to dune\n",
      "uploading ch_template_alltime_chain_activity\n",
      "Response status code: 200\n",
      "Response content: b'{\"success\":true,\"table_name\":\"ch_template_alltime_chain_activity\"}'\n",
      "table at: dune.oplabspbc.dataset_ch_template_alltime_chain_activity\n"
     ]
    }
   ],
   "source": [
    "# Copy to Dune\n",
    "print('upload bq to dune')\n",
    "sql = '''\n",
    "SELECT *\n",
    "FROM `api_table_uploads.daily_aggegate_l2_chain_usage_goldsky`\n",
    "WHERE dt >= DATE_SUB(CURRENT_DATE(), INTERVAL 366 DAY)\n",
    "'''\n",
    "bq_df = bqu.run_query_to_df(sql)\n",
    "\n",
    "dune_table_name = 'ch_template_alltime_chain_activity'\n",
    "d.write_dune_api_from_pandas(bq_df, dune_table_name,table_description = dune_table_name)"
   ]
  }
 ],
 "metadata": {
  "kernelspec": {
   "display_name": "new-env",
   "language": "python",
   "name": "python3"
  },
  "language_info": {
   "codemirror_mode": {
    "name": "ipython",
    "version": 3
   },
   "file_extension": ".py",
   "mimetype": "text/x-python",
   "name": "python",
   "nbconvert_exporter": "python",
   "pygments_lexer": "ipython3",
   "version": "3.12.3"
  },
  "orig_nbformat": 4
 },
 "nbformat": 4,
 "nbformat_minor": 2
}
