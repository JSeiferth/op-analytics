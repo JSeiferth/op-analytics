{
 "cells": [
  {
   "cell_type": "code",
   "execution_count": 1,
   "metadata": {},
   "outputs": [
    {
     "name": "stdout",
     "output_type": "stream",
     "text": [
      "start app fees\n"
     ]
    },
    {
     "name": "stderr",
     "output_type": "stream",
     "text": [
      "/var/folders/by/kltjc8yd0yz_7_wrtrzhrm9m0000gn/T/ipykernel_18981/643138684.py:20: DeprecationWarning: datetime.datetime.utcnow() is deprecated and scheduled for removal in a future version. Use timezone-aware objects to represent datetimes in UTC: datetime.datetime.now(datetime.UTC).\n",
      "  current_utc_date = datetime.utcnow().replace(hour=0, minute=0, second=0, microsecond=0)\n"
     ]
    }
   ],
   "source": [
    "print('start app fees')\n",
    "import pandas as pd\n",
    "import sys\n",
    "import numpy as np\n",
    "import json\n",
    "import requests as r\n",
    "\n",
    "import time\n",
    "\n",
    "\n",
    "from datetime import datetime, timedelta\n",
    "sys.path.append(\"../helper_functions\")\n",
    "import defillama_utils as dfl\n",
    "import duneapi_utils as du\n",
    "import opstack_metadata_utils as ops\n",
    "import csv_utils as cu\n",
    "import google_bq_utils as bqu\n",
    "sys.path.pop()\n",
    "\n",
    "current_utc_date = datetime.utcnow().replace(hour=0, minute=0, second=0, microsecond=0)\n",
    "# print(current_utc_date)"
   ]
  },
  {
   "cell_type": "code",
   "execution_count": 2,
   "metadata": {},
   "outputs": [
    {
     "name": "stdout",
     "output_type": "stream",
     "text": [
      "  defillamaId           name           slug  disabled    displayName  \\\n",
      "0         622        Clipper        clipper     False        Clipper   \n",
      "1        3515  DackieSwap V2  dackieswap-v2     False  DackieSwap V2   \n",
      "2         420            Elk            elk     False            Elk   \n",
      "3        2361  Mummy Finance  mummy-finance     False  Mummy Finance   \n",
      "4         119   SushiSwap V3   sushiswap-v3     False   SushiSwap V3   \n",
      "\n",
      "          module     category  \\\n",
      "0        clipper        Dexes   \n",
      "1  dackieswap-v2        Dexes   \n",
      "2            elk        Dexes   \n",
      "3  mummy-finance  Derivatives   \n",
      "4      sushiswap        Dexes   \n",
      "\n",
      "                                                logo  change_1d  change_7d  \\\n",
      "0  https://icons.llamao.fi/icons/protocols/clippe...        NaN        NaN   \n",
      "1  https://icons.llamao.fi/icons/protocols/dackie...        0.0        0.0   \n",
      "2    https://icons.llamao.fi/icons/protocols/elk.jpg        NaN        NaN   \n",
      "3  https://icons.llamao.fi/icons/protocols/mummy-...        NaN        NaN   \n",
      "4  https://icons.llamao.fi/icons/protocols/sushis...        NaN        NaN   \n",
      "\n",
      "   ...  totalVolume30d     parentProtocol  dailyUserFees  dailyFees  \\\n",
      "0  ...             0.0                NaN            NaN        NaN   \n",
      "1  ...           544.0  parent#dackieswap            0.0        0.0   \n",
      "2  ...             0.0                NaN            0.0        0.0   \n",
      "3  ...             NaN                NaN            NaN        NaN   \n",
      "4  ...             0.0       parent#sushi           65.0       65.0   \n",
      "\n",
      "   holdersRevenue30d  totalUserFees  totalFees  totalSupplySideRevenue  \\\n",
      "0                NaN            NaN        NaN                     NaN   \n",
      "1                NaN            NaN        NaN                     NaN   \n",
      "2                0.0            NaN        NaN                     NaN   \n",
      "3                NaN            NaN        NaN                     NaN   \n",
      "4                0.0            NaN        NaN                     NaN   \n",
      "\n",
      "   versionKey  bribesRevenue30d  \n",
      "0         NaN               NaN  \n",
      "1         NaN               NaN  \n",
      "2         NaN               NaN  \n",
      "3         NaN               NaN  \n",
      "4          v3               NaN  \n",
      "\n",
      "[5 rows x 49 columns]\n"
     ]
    }
   ],
   "source": [
    "data_typed = 'totalRevenue'\n",
    "df = dfl.get_fees_revenue('optimism', exclude_total_data_chart=False, exclude_total_data_chart_breakdown=False, data_type=data_typed)\n",
    "df.to_csv(f'outputs/defillama_{data_typed}.csv')"
   ]
  },
  {
   "cell_type": "code",
   "execution_count": 11,
   "metadata": {},
   "outputs": [
    {
     "data": {
      "text/html": [
       "<div>\n",
       "<style scoped>\n",
       "    .dataframe tbody tr th:only-of-type {\n",
       "        vertical-align: middle;\n",
       "    }\n",
       "\n",
       "    .dataframe tbody tr th {\n",
       "        vertical-align: top;\n",
       "    }\n",
       "\n",
       "    .dataframe thead th {\n",
       "        text-align: right;\n",
       "    }\n",
       "</style>\n",
       "<table border=\"1\" class=\"dataframe\">\n",
       "  <thead>\n",
       "    <tr style=\"text-align: right;\">\n",
       "      <th></th>\n",
       "      <th>defillamaId</th>\n",
       "      <th>name</th>\n",
       "      <th>slug</th>\n",
       "      <th>chains</th>\n",
       "      <th>protocolType</th>\n",
       "      <th>totalFees</th>\n",
       "      <th>totalSupplySideRevenue</th>\n",
       "      <th>totalAllTime</th>\n",
       "    </tr>\n",
       "  </thead>\n",
       "  <tbody>\n",
       "    <tr>\n",
       "      <th>7</th>\n",
       "      <td>742</td>\n",
       "      <td>Furucombo</td>\n",
       "      <td>furucombo</td>\n",
       "      <td>[Optimism]</td>\n",
       "      <td>protocol</td>\n",
       "      <td>896.0</td>\n",
       "      <td>NaN</td>\n",
       "      <td>None</td>\n",
       "    </tr>\n",
       "    <tr>\n",
       "      <th>11</th>\n",
       "      <td>1</td>\n",
       "      <td>Uniswap V3</td>\n",
       "      <td>uniswap-v3</td>\n",
       "      <td>[Optimism]</td>\n",
       "      <td>protocol</td>\n",
       "      <td>NaN</td>\n",
       "      <td>NaN</td>\n",
       "      <td>None</td>\n",
       "    </tr>\n",
       "    <tr>\n",
       "      <th>6</th>\n",
       "      <td>756</td>\n",
       "      <td>Angle</td>\n",
       "      <td>angle</td>\n",
       "      <td>[Optimism]</td>\n",
       "      <td>protocol</td>\n",
       "      <td>NaN</td>\n",
       "      <td>NaN</td>\n",
       "      <td>None</td>\n",
       "    </tr>\n",
       "    <tr>\n",
       "      <th>1</th>\n",
       "      <td>3515</td>\n",
       "      <td>DackieSwap V2</td>\n",
       "      <td>dackieswap-v2</td>\n",
       "      <td>[Optimism]</td>\n",
       "      <td>protocol</td>\n",
       "      <td>NaN</td>\n",
       "      <td>NaN</td>\n",
       "      <td>None</td>\n",
       "    </tr>\n",
       "    <tr>\n",
       "      <th>2</th>\n",
       "      <td>420</td>\n",
       "      <td>Elk</td>\n",
       "      <td>elk</td>\n",
       "      <td>[Optimism]</td>\n",
       "      <td>protocol</td>\n",
       "      <td>NaN</td>\n",
       "      <td>NaN</td>\n",
       "      <td>None</td>\n",
       "    </tr>\n",
       "  </tbody>\n",
       "</table>\n",
       "</div>"
      ],
      "text/plain": [
       "   defillamaId           name           slug      chains protocolType  \\\n",
       "7          742      Furucombo      furucombo  [Optimism]     protocol   \n",
       "11           1     Uniswap V3     uniswap-v3  [Optimism]     protocol   \n",
       "6          756          Angle          angle  [Optimism]     protocol   \n",
       "1         3515  DackieSwap V2  dackieswap-v2  [Optimism]     protocol   \n",
       "2          420            Elk            elk  [Optimism]     protocol   \n",
       "\n",
       "    totalFees  totalSupplySideRevenue totalAllTime  \n",
       "7       896.0                     NaN         None  \n",
       "11        NaN                     NaN         None  \n",
       "6         NaN                     NaN         None  \n",
       "1         NaN                     NaN         None  \n",
       "2         NaN                     NaN         None  "
      ]
     },
     "execution_count": 11,
     "metadata": {},
     "output_type": "execute_result"
    }
   ],
   "source": [
    "# df.head()\n",
    "df.columns\n",
    "df_filter = df[['defillamaId','name','slug','chains','protocolType','totalFees','totalSupplySideRevenue','totalAllTime']]\n",
    "df_filter.sample(5)\n",
    "\n"
   ]
  }
 ],
 "metadata": {
  "kernelspec": {
   "display_name": "gcp-env",
   "language": "python",
   "name": "python3"
  },
  "language_info": {
   "codemirror_mode": {
    "name": "ipython",
    "version": 3
   },
   "file_extension": ".py",
   "mimetype": "text/x-python",
   "name": "python",
   "nbconvert_exporter": "python",
   "pygments_lexer": "ipython3",
   "version": "3.12.3"
  }
 },
 "nbformat": 4,
 "nbformat_minor": 2
}
